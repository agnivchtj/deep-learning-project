{
 "cells": [
  {
   "cell_type": "markdown",
   "metadata": {},
   "source": [
    "## Recurrent Neural Networks\n",
    "\n",
    "..."
   ]
  },
  {
   "cell_type": "code",
   "execution_count": 2,
   "metadata": {},
   "outputs": [
    {
     "name": "stdout",
     "output_type": "stream",
     "text": [
      "         Time          Low         High         Open        Close    Volume\n",
      "0  1528968660  6489.549805  6489.560059  6489.560059  6489.549805  0.587100\n",
      "1  1528968720  6487.370117  6489.560059  6489.549805  6487.379883  7.706374\n",
      "2  1528968780  6479.410156  6487.370117  6487.370117  6479.410156  3.088252\n",
      "3  1528968840  6479.410156  6479.419922  6479.419922  6479.410156  1.404100\n",
      "4  1528968900  6475.930176  6479.979980  6479.410156  6479.979980  0.753000\n"
     ]
    }
   ],
   "source": [
    "import pandas as pd\n",
    "\n",
    "df = pd.read_csv('crypto_data/BTC-USD.csv', names = ['Time', 'Low', 'High', 'Open', 'Close', 'Volume'])\n",
    "print(df.head())"
   ]
  },
  {
   "cell_type": "markdown",
   "metadata": {},
   "source": [
    "..."
   ]
  },
  {
   "cell_type": "code",
   "execution_count": 4,
   "metadata": {},
   "outputs": [
    {
     "name": "stdout",
     "output_type": "stream",
     "text": [
      "         Time          Low         High         Open        Close    Volume  \\\n",
      "0  1528968660  6489.549805  6489.560059  6489.560059  6489.549805  0.587100   \n",
      "1  1528968720  6487.370117  6489.560059  6489.549805  6487.379883  7.706374   \n",
      "2  1528968780  6479.410156  6487.370117  6487.370117  6479.410156  3.088252   \n",
      "3  1528968840  6479.410156  6479.419922  6479.419922  6479.410156  1.404100   \n",
      "4  1528968900  6475.930176  6479.979980  6479.410156  6479.979980  0.753000   \n",
      "\n",
      "        Future  \n",
      "0  6479.410156  \n",
      "1  6479.979980  \n",
      "2  6480.000000  \n",
      "3  6477.220215  \n",
      "4  6480.000000  \n"
     ]
    }
   ],
   "source": [
    "SEQ_LENGTH = 60\n",
    "PERIOD_TO_PREDICT = 3\n",
    "\n",
    "def classify(price1, price2):\n",
    "    if (float(price2) > float(price1)):\n",
    "        return 1\n",
    "    else:\n",
    "        return 0\n",
    "\n",
    "## We want to shift\n",
    "df['Future'] = df['Close'].shift(-PERIOD_TO_PREDICT)\n",
    "print(df.head())"
   ]
  },
  {
   "cell_type": "code",
   "execution_count": 6,
   "metadata": {},
   "outputs": [
    {
     "name": "stdout",
     "output_type": "stream",
     "text": [
      "         Time          Low         High         Open        Close    Volume  \\\n",
      "0  1528968660  6489.549805  6489.560059  6489.560059  6489.549805  0.587100   \n",
      "1  1528968720  6487.370117  6489.560059  6489.549805  6487.379883  7.706374   \n",
      "2  1528968780  6479.410156  6487.370117  6487.370117  6479.410156  3.088252   \n",
      "3  1528968840  6479.410156  6479.419922  6479.419922  6479.410156  1.404100   \n",
      "4  1528968900  6475.930176  6479.979980  6479.410156  6479.979980  0.753000   \n",
      "5  1528968960  6477.959961  6480.000000  6477.959961  6480.000000  1.490900   \n",
      "6  1528969020  6477.220215  6480.000000  6479.990234  6477.220215  2.731950   \n",
      "7  1528969080  6477.220215  6480.000000  6477.220215  6480.000000  2.174240   \n",
      "8  1528969140  6479.990234  6479.990234  6479.990234  6479.990234  0.903100   \n",
      "9  1528969200  6477.259766  6479.990234  6479.990234  6478.660156  3.258786   \n",
      "\n",
      "        Future  Target  \n",
      "0  6479.410156       0  \n",
      "1  6479.979980       0  \n",
      "2  6480.000000       1  \n",
      "3  6477.220215       0  \n",
      "4  6480.000000       1  \n",
      "5  6479.990234       0  \n",
      "6  6478.660156       1  \n",
      "7  6478.660156       0  \n",
      "8  6479.339844       0  \n",
      "9  6479.350098       1  \n"
     ]
    }
   ],
   "source": [
    "df['Target'] = list(map(classify, df['Close'], df['Future']))\n",
    "print(df.head(10))"
   ]
  },
  {
   "cell_type": "markdown",
   "metadata": {},
   "source": [
    "..."
   ]
  },
  {
   "cell_type": "code",
   "execution_count": 41,
   "metadata": {},
   "outputs": [],
   "source": [
    "import random\n",
    "import numpy as np\n",
    "from sklearn import preprocessing\n",
    "from collections import deque\n",
    "\n",
    "## This helper function is to normalize columns and remove NaNs\n",
    "def preprocess(df):\n",
    "    df = df.drop('Future', 1)\n",
    "    for col in df.columns:\n",
    "        if col != 'Target':\n",
    "            df.dropna(inplace=True)\n",
    "            df[col] = df[col].pct_change()\n",
    "            df[col] = preprocessing.scale(df[col].values)\n",
    "    df.dropna(inplace = True)\n",
    "\n",
    "## This helper function is to balance number of 0s and 1s\n",
    "def balance(data):\n",
    "    random.shuffle(data)\n",
    "    buys = []\n",
    "    sells = []\n",
    "    for x, y in data:\n",
    "        if y == 0:\n",
    "            sells.append([x, y])\n",
    "        else:\n",
    "            buys.append([x, y])\n",
    "    \n",
    "    random.shuffle(buys)\n",
    "    random.shuffle(sells)\n",
    "    \n",
    "    buys = buys[:min(len(buys), len(sells))]\n",
    "    sells = sells[:min(len(buys), len(sells))]\n",
    "    data = buys + sells\n",
    "    \n",
    "    random.shuffle(data)\n",
    "    return data\n",
    "\n",
    "## This function splits the dataset into x and y values\n",
    "def split(df):\n",
    "    data = []\n",
    "    prev_days = deque(maxlen = SEQ_LENGTH)\n",
    "    \n",
    "    for value in df.values:\n",
    "        prev_days.append([n for n in value[:-1]])\n",
    "        if len(prev_days) == SEQ_LENGTH:\n",
    "            data.append([np.array(prev_days), value[-1]])\n",
    "    \n",
    "    data = balance(data)\n",
    "    x = []\n",
    "    y = []\n",
    "    for seq, target in data:\n",
    "        x.append(seq)\n",
    "        y.append(target)\n",
    "    \n",
    "    return np.array(x), np.array(y)\n",
    "    \n",
    "\n",
    "## We can create our training and test data sets\n",
    "times = sorted(df.index.values)\n",
    "cutoff = times[-int(0.05*len(times))]\n",
    "\n",
    "training_set = df[(df.index < cutoff)]\n",
    "validation_set = df[(df.index >= cutoff)]\n",
    "\n",
    "preprocess(training_set)\n",
    "preprocess(validation_set)\n",
    "\n",
    "x_train, y_train = split(training_set)\n",
    "x_test, y_test = split(validation_set)"
   ]
  },
  {
   "cell_type": "markdown",
   "metadata": {},
   "source": [
    "..."
   ]
  },
  {
   "cell_type": "code",
   "execution_count": 46,
   "metadata": {},
   "outputs": [],
   "source": [
    "import tensorflow as tf\n",
    "from tensorflow.keras.models import Sequential\n",
    "from tensorflow.keras.layers import Dense, Dropout, LSTM, BatchNormalization\n",
    "\n",
    "model = Sequential()\n",
    "model.add(LSTM(128, input_shape = x_train.shape[1:], return_sequences = True))\n",
    "model.add(Dropout(0.2))\n",
    "model.add(BatchNormalization())\n",
    "\n",
    "model.add(LSTM(128, input_shape = x_train.shape[1:], return_sequences = True))\n",
    "model.add(Dropout(0.2))\n",
    "model.add(BatchNormalization())\n",
    "\n",
    "model.add(LSTM(128, input_shape = x_train.shape[1:]))\n",
    "model.add(Dropout(0.2))\n",
    "model.add(BatchNormalization())\n",
    "\n",
    "model.add(Dense(32, activation = tf.nn.relu))\n",
    "model.add(Dropout(0.2))\n",
    "\n",
    "model.add(Dense(2, activation = tf.nn.softmax))\n",
    "\n",
    "model.compile(\n",
    "    optimizer = tf.keras.optimizers.Adam(learning_rate = 0.001, decay = 1e-6), \n",
    "    loss = 'sparse_categorical_crossentropy', \n",
    "    metrics = ['accuracy']\n",
    ")\n",
    "\n",
    "# model.fit(x_train, y_train, batch_size = 64, epochs = 3)"
   ]
  },
  {
   "cell_type": "markdown",
   "metadata": {},
   "source": [
    "..."
   ]
  }
 ],
 "metadata": {
  "kernelspec": {
   "display_name": "Python 3",
   "language": "python",
   "name": "python3"
  },
  "language_info": {
   "codemirror_mode": {
    "name": "ipython",
    "version": 3
   },
   "file_extension": ".py",
   "mimetype": "text/x-python",
   "name": "python",
   "nbconvert_exporter": "python",
   "pygments_lexer": "ipython3",
   "version": "3.8.5"
  }
 },
 "nbformat": 4,
 "nbformat_minor": 4
}
