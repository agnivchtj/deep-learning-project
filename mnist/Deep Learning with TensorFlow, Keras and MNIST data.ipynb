{
 "cells": [
  {
   "cell_type": "markdown",
   "metadata": {},
   "source": [
    "## Deep Learning\n",
    "\n",
    "The mathematical challenge for an artificial neural network is to best optimize thousands or millions or whatever number of weights you have such that the output layer results in what you were looking for. Solving for this problem, and building out the layers of our neural network model is exactly what TensorFlow is for. TensorFlow is used for all things \"operations on tensors.\" A tensor in this case is nothing fancy; it's a multi-dimensional array.\n",
    "\n",
    "Following the release of deep learning libraries, higher-level API-like libraries came out, which sit on top of the deep learning libraries like TensorFlow and make building, testing, and tweaking models even more simple. One such library that has easily become the most popular is Keras."
   ]
  },
  {
   "cell_type": "code",
   "execution_count": 45,
   "metadata": {},
   "outputs": [
    {
     "data": {
      "text/plain": [
       "'2.9.1'"
      ]
     },
     "execution_count": 45,
     "metadata": {},
     "output_type": "execute_result"
    }
   ],
   "source": [
    "import tensorflow as tf\n",
    "import matplotlib.pyplot as plt\n",
    "\n",
    "tf.__version__"
   ]
  },
  {
   "cell_type": "markdown",
   "metadata": {},
   "source": [
    "To start off, we can look at a common example for deep learning using the MNIST dataset. This dataset consists of 28x28 images of handwritten digits, from 0 to 9. Our goal is to use TensorFlow and Keras to build a model that can accurately recognize these images upon receiving them as input."
   ]
  },
  {
   "cell_type": "code",
   "execution_count": 46,
   "metadata": {},
   "outputs": [
    {
     "data": {
      "image/png": "[encoded data removed]",
      "text/plain": [
       "<Figure size 432x288 with 1 Axes>"
      ]
     },
     "metadata": {
      "needs_background": "light"
     },
     "output_type": "display_data"
    },
    {
     "data": {
      "image/png": "[encoded data removed]",
      "text/plain": [
       "<Figure size 432x288 with 1 Axes>"
      ]
     },
     "metadata": {
      "needs_background": "light"
     },
     "output_type": "display_data"
    }
   ],
   "source": [
    "## Initialize MNIST data set (28x28 handwritten digit images)\n",
    "mnist = tf.keras.datasets.mnist\n",
    "(x_train, y_train), (x_test, y_test) = mnist.load_data()\n",
    "\n",
    "plt.imshow(x_train[0])\n",
    "plt.show()\n",
    "\n",
    "## We can normalize the pixel values in the training / test set to be between 0-1\n",
    "x_train = tf.keras.utils.normalize(x_train, axis=1)\n",
    "x_test = tf.keras.utils.normalize(x_test, axis=1)\n",
    "\n",
    "plt.imshow(x_train[0])\n",
    "plt.show()"
   ]
  },
  {
   "cell_type": "markdown",
   "metadata": {},
   "source": [
    "Now, we can build our model using Keras' sequential model function; this is basically a feed-forward model that is appropriate for a plain stack of layers where each layer has exactly one input tensor and one output tensor. Our neural network will have two hidden layers (with ReLU activation function) and an output layer with 10 neurons (each mapping to output digit from 0-9). In the output layer, the activation function used is the softmax function as we are looking at more of a probability distribution."
   ]
  },
  {
   "cell_type": "code",
   "execution_count": 47,
   "metadata": {},
   "outputs": [
    {
     "name": "stdout",
     "output_type": "stream",
     "text": [
      "Epoch 1/5\n",
      "1875/1875 [==============================] - 5s 2ms/step - loss: 0.2684 - accuracy: 0.9215\n",
      "Epoch 2/5\n",
      "1875/1875 [==============================] - 4s 2ms/step - loss: 0.1125 - accuracy: 0.9655\n",
      "Epoch 3/5\n",
      "1875/1875 [==============================] - 4s 2ms/step - loss: 0.0768 - accuracy: 0.9755\n",
      "Epoch 4/5\n",
      "1875/1875 [==============================] - 4s 2ms/step - loss: 0.0552 - accuracy: 0.9824\n",
      "Epoch 5/5\n",
      "1875/1875 [==============================] - 4s 2ms/step - loss: 0.0432 - accuracy: 0.9858\n"
     ]
    },
    {
     "data": {
      "text/plain": [
       "<keras.callbacks.History at 0x1db3eff20a0>"
      ]
     },
     "execution_count": 47,
     "metadata": {},
     "output_type": "execute_result"
    }
   ],
   "source": [
    "## Establish our Sequential model here\n",
    "model = tf.keras.models.Sequential()\n",
    "model.add(tf.keras.layers.Flatten())\n",
    "model.add(tf.keras.layers.Dense(128, activation = tf.nn.relu))\n",
    "model.add(tf.keras.layers.Dense(128, activation = tf.nn.relu))\n",
    "model.add(tf.keras.layers.Dense(10, activation = tf.nn.softmax))\n",
    "\n",
    "## Set up some parameters for our model\n",
    "model.compile(\n",
    "    optimizer = 'adam', \n",
    "    loss = 'sparse_categorical_crossentropy', \n",
    "    metrics = ['accuracy']\n",
    ")\n",
    "model.fit(x_train, y_train, epochs = 5)"
   ]
  },
  {
   "cell_type": "markdown",
   "metadata": {},
   "source": [
    "As we train our model through multiple iterations, we can see our loss metric (calculation for error) decrease substantially and accuracy improves from 92.2% to 98.6%. We should also simulate this on our test data to make sure our model didn't simply memorize every single example in the training data (overfitting)."
   ]
  },
  {
   "cell_type": "code",
   "execution_count": 16,
   "metadata": {},
   "outputs": [
    {
     "name": "stdout",
     "output_type": "stream",
     "text": [
      "313/313 [==============================] - 2s 4ms/step - loss: 0.0987 - accuracy: 0.9717\n",
      "The value of the loss is:  0.09874707460403442\n",
      "The accuracy of the model is:  0.9717000126838684\n"
     ]
    }
   ],
   "source": [
    "val_loss, val_accuracy = model.evaluate(x_test, y_test)\n",
    "print(\"The value of the loss is: \", val_loss)\n",
    "print(\"The accuracy of the model is: \", val_accuracy)"
   ]
  },
  {
   "cell_type": "markdown",
   "metadata": {},
   "source": [
    "As we can see, we get similar values of loss and accuracy (97%) when simulating our model on our test (out-of-sample) data, so this means our model has learned to classify MNIST digits in general. We can now output this list of classifications in a Pandas dataframe and export it to CSV for our records."
   ]
  },
  {
   "cell_type": "code",
   "execution_count": 49,
   "metadata": {},
   "outputs": [
    {
     "name": "stdout",
     "output_type": "stream",
     "text": [
      "313/313 [==============================] - 0s 1ms/step\n",
      "[[5.4827341e-11 1.2298217e-09 2.3392664e-07 ... 9.9999893e-01\n",
      "  1.2896800e-10 3.0892544e-09]\n",
      " [1.2936729e-13 1.8514701e-08 1.0000000e+00 ... 2.3451755e-14\n",
      "  7.2766472e-12 1.1244363e-17]\n",
      " [2.5937792e-09 9.9992490e-01 1.3264461e-06 ... 5.5877346e-05\n",
      "  8.4156472e-06 1.2707464e-07]\n",
      " ...\n",
      " [3.9115794e-10 4.5939746e-07 6.3848843e-10 ... 1.2307581e-06\n",
      "  6.5333758e-08 6.5592001e-05]\n",
      " [1.3902446e-09 3.3152533e-10 3.1800265e-09 ... 3.2777081e-08\n",
      "  1.5525375e-05 8.7092982e-09]\n",
      " [6.7521988e-11 3.9380547e-12 3.5490066e-12 ... 1.4573533e-13\n",
      "  5.5674811e-09 1.5226248e-13]]\n",
      "\n",
      "\n",
      "7\n"
     ]
    },
    {
     "data": {
      "image/png": "[encoded data removed]",
      "text/plain": [
       "<Figure size 432x288 with 1 Axes>"
      ]
     },
     "metadata": {
      "needs_background": "light"
     },
     "output_type": "display_data"
    },
    {
     "name": "stdout",
     "output_type": "stream",
     "text": [
      "2\n"
     ]
    },
    {
     "data": {
      "image/png": "[encoded data removed]",
      "text/plain": [
       "<Figure size 432x288 with 1 Axes>"
      ]
     },
     "metadata": {
      "needs_background": "light"
     },
     "output_type": "display_data"
    },
    {
     "name": "stdout",
     "output_type": "stream",
     "text": [
      "1\n"
     ]
    },
    {
     "data": {
      "image/png": "[encoded data removed]",
      "text/plain": [
       "<Figure size 432x288 with 1 Axes>"
      ]
     },
     "metadata": {
      "needs_background": "light"
     },
     "output_type": "display_data"
    },
    {
     "name": "stdout",
     "output_type": "stream",
     "text": [
      "0\n"
     ]
    },
    {
     "data": {
      "image/png": "[encoded data removed]",
      "text/plain": [
       "<Figure size 432x288 with 1 Axes>"
      ]
     },
     "metadata": {
      "needs_background": "light"
     },
     "output_type": "display_data"
    }
   ],
   "source": [
    "predictions = model.predict(x_test)\n",
    "print(predictions)\n",
    "print('\\n')\n",
    "\n",
    "## We can check the first few using plt.imshow\n",
    "print(np.argmax(predictions[0]))\n",
    "plt.imshow(x_test[0])\n",
    "plt.show()\n",
    "\n",
    "print(np.argmax(predictions[1]))\n",
    "plt.imshow(x_test[1])\n",
    "plt.show()\n",
    "\n",
    "print(np.argmax(predictions[2]))\n",
    "plt.imshow(x_test[2])\n",
    "plt.show()\n",
    "\n",
    "print(np.argmax(predictions[3]))\n",
    "plt.imshow(x_test[3])\n",
    "plt.show()"
   ]
  },
  {
   "cell_type": "code",
   "execution_count": 50,
   "metadata": {},
   "outputs": [
    {
     "name": "stdout",
     "output_type": "stream",
     "text": [
      "      Predictions\n",
      "0               7\n",
      "1               2\n",
      "2               1\n",
      "3               0\n",
      "4               4\n",
      "...           ...\n",
      "9995            2\n",
      "9996            3\n",
      "9997            4\n",
      "9998            5\n",
      "9999            6\n",
      "\n",
      "[10000 rows x 1 columns]\n"
     ]
    }
   ],
   "source": [
    "import pandas as pd\n",
    "import numpy as np\n",
    "\n",
    "preds = pd.DataFrame([np.argmax(predictions[i]) for i in range(0, 10000)])\n",
    "preds.columns = ['Predictions']\n",
    "preds.to_csv('predictions_mnist.txt', index=False, header=False)\n",
    "print(preds)"
   ]
  },
  {
   "cell_type": "code",
   "execution_count": null,
   "metadata": {},
   "outputs": [],
   "source": []
  }
 ],
 "metadata": {
  "kernelspec": {
   "display_name": "Python 3",
   "language": "python",
   "name": "python3"
  },
  "language_info": {
   "codemirror_mode": {
    "name": "ipython",
    "version": 3
   },
   "file_extension": ".py",
   "mimetype": "text/x-python",
   "name": "python",
   "nbconvert_exporter": "python",
   "pygments_lexer": "ipython3",
   "version": "3.8.5"
  }
 },
 "nbformat": 4,
 "nbformat_minor": 4
}
