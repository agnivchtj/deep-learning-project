{
 "cells": [
  {
   "cell_type": "markdown",
   "metadata": {},
   "source": [
    "## Recurrent Neural Networks using TensorFlow, Keras and MNIST data\n",
    "\n",
    "Recurrent Neural Networks retain the importance of sequential data as they are feeded through a regular model; this is done by taking the output of the activation function and including it as input back into the cell of same layer. This can be problematic for several reasons: how is the new incoming data weighed? How is recurring data handled? What about as we continue down the layer? \n",
    "\n",
    "In order to tackle these problems, we can make use of Long Short-Term Memory (LSTM) cells which use functions to determine what to remove, add and output from the new incoming data so that data that is fed to next layer remains undominated by that initial signal. To start, we can look at applying a RNN to MNIST data; this dataset consists of 28x28 images of handwritten digits, from 0 to 9. Our goal is to build a RNN that can accurately recognize /classify the images upon receiving as input."
   ]
  },
  {
   "cell_type": "code",
   "execution_count": 8,
   "metadata": {},
   "outputs": [
    {
     "name": "stdout",
     "output_type": "stream",
     "text": [
      "(60000, 28, 28)\n"
     ]
    },
    {
     "data": {
      "image/png": "[encoded data removed]",
      "text/plain": [
       "<Figure size 432x288 with 1 Axes>"
      ]
     },
     "metadata": {
      "needs_background": "light"
     },
     "output_type": "display_data"
    },
    {
     "data": {
      "image/png": "[encoded data removed]",
      "text/plain": [
       "<Figure size 432x288 with 1 Axes>"
      ]
     },
     "metadata": {
      "needs_background": "light"
     },
     "output_type": "display_data"
    }
   ],
   "source": [
    "import tensorflow as tf\n",
    "import matplotlib.pyplot as plt\n",
    "from tensorflow.keras.models import Sequential\n",
    "from tensorflow.keras.layers import Dense, Dropout, LSTM\n",
    "\n",
    "mnist = tf.keras.datasets.mnist\n",
    "(x_train, y_train), (x_test, y_test) = mnist.load_data()\n",
    "\n",
    "print(x_train.shape)\n",
    "plt.imshow(x_train[0])\n",
    "plt.show()\n",
    "\n",
    "## We can normalize the pixel values in the training / test set to be between 0-1\n",
    "x_train = tf.keras.utils.normalize(x_train, axis=1)\n",
    "x_test = tf.keras.utils.normalize(x_test, axis=1)\n",
    "\n",
    "plt.imshow(x_train[0])\n",
    "plt.show()"
   ]
  },
  {
   "cell_type": "markdown",
   "metadata": {},
   "source": [
    "Now we can build our sequential RNN model with `LSTM` cells in the hidden layer, as opposed to `Conv`, and we use the `return_sequences` flag to indicate that we want to pass on the output to the recurrent layer (which we want to do here). We can set up the parameters for our model compilation, with a learning rate of `1e-3` and decay of `1e-5`."
   ]
  },
  {
   "cell_type": "code",
   "execution_count": 9,
   "metadata": {},
   "outputs": [
    {
     "name": "stdout",
     "output_type": "stream",
     "text": [
      "Epoch 1/5\n"
     ]
    },
    {
     "name": "stderr",
     "output_type": "stream",
     "text": [
      "C:\\Users\\agniv\\anaconda3\\lib\\site-packages\\keras\\optimizers\\optimizer_v2\\adam.py:110: UserWarning: The `lr` argument is deprecated, use `learning_rate` instead.\n",
      "  super(Adam, self).__init__(name, **kwargs)\n"
     ]
    },
    {
     "name": "stdout",
     "output_type": "stream",
     "text": [
      "1875/1875 [==============================] - 59s 31ms/step - loss: 0.7276 - accuracy: 0.7516\n",
      "Epoch 2/5\n",
      "1875/1875 [==============================] - 59s 31ms/step - loss: 0.1942 - accuracy: 0.9470\n",
      "Epoch 3/5\n",
      "1875/1875 [==============================] - 58s 31ms/step - loss: 0.1282 - accuracy: 0.9656\n",
      "Epoch 4/5\n",
      "1875/1875 [==============================] - 56s 30ms/step - loss: 0.0984 - accuracy: 0.9743\n",
      "Epoch 5/5\n",
      "1875/1875 [==============================] - 61s 32ms/step - loss: 0.0821 - accuracy: 0.9782\n"
     ]
    },
    {
     "data": {
      "text/plain": [
       "<keras.callbacks.History at 0x1b40ddd4bb0>"
      ]
     },
     "execution_count": 9,
     "metadata": {},
     "output_type": "execute_result"
    }
   ],
   "source": [
    "model = Sequential()\n",
    "model.add(LSTM(128, input_shape = x_train.shape[1:], activation = tf.nn.relu, return_sequences = True))\n",
    "model.add(Dropout(0.2))\n",
    "\n",
    "model.add(LSTM(128, activation = tf.nn.relu))\n",
    "model.add(Dropout(0.2))\n",
    "\n",
    "model.add(Dense(32, activation = tf.nn.relu))\n",
    "model.add(Dropout(0.2))\n",
    "\n",
    "model.add(Dense(10, activation = tf.nn.softmax))\n",
    "\n",
    "model.compile(\n",
    "    optimizer = tf.keras.optimizers.Adam(lr = 1e-3, decay = 1e-5), \n",
    "    loss = 'sparse_categorical_crossentropy', \n",
    "    metrics = ['accuracy']\n",
    ")\n",
    "\n",
    "model.fit(x_train, y_train, epochs = 5)"
   ]
  },
  {
   "cell_type": "markdown",
   "metadata": {},
   "source": [
    "As we train our model through multiple iterations, we can see that our loss metric decreases substantially and accuracy improves from 75.2% to 97.8%. We will also simulate this on our test data to ensure our model didn't simply memorize every detail in the training set (overfitting)."
   ]
  },
  {
   "cell_type": "code",
   "execution_count": 10,
   "metadata": {},
   "outputs": [
    {
     "name": "stdout",
     "output_type": "stream",
     "text": [
      "313/313 [==============================] - 4s 11ms/step - loss: 0.0584 - accuracy: 0.9822\n",
      "The value of loss is:  0.05836750566959381\n",
      "The accuracy of the model is:  0.982200026512146\n"
     ]
    }
   ],
   "source": [
    "val_loss, val_accuracy = model.evaluate(x_test, y_test)\n",
    "print(\"The value of loss is: \", val_loss)\n",
    "print(\"The accuracy of the model is: \", val_accuracy)"
   ]
  },
  {
   "cell_type": "markdown",
   "metadata": {},
   "source": [
    "As can be seen, we get similar values for loss and accuracy (98.2%) when simulating our model on the test (out-of-sample) data, so this would indicate that our model has learned to classify MNIST in general. We can now output the list of predictions in a Pandas dataframe and export it to CSV for record."
   ]
  },
  {
   "cell_type": "code",
   "execution_count": 15,
   "metadata": {},
   "outputs": [
    {
     "name": "stdout",
     "output_type": "stream",
     "text": [
      "313/313 [==============================] - 3s 11ms/step\n",
      "[[6.5262143e-11 1.2424092e-06 8.5909314e-06 ... 9.9997437e-01\n",
      "  9.0901239e-08 1.1122986e-05]\n",
      " [3.8835662e-12 4.8277088e-10 1.0000000e+00 ... 7.0377723e-12\n",
      "  2.3169053e-12 1.8195709e-18]\n",
      " [9.7758555e-21 1.0000000e+00 9.4659697e-12 ... 4.3876992e-16\n",
      "  2.9993605e-17 3.3658389e-21]\n",
      " ...\n",
      " [5.5423536e-19 4.4065568e-14 4.8842215e-15 ... 2.3761690e-08\n",
      "  5.1430464e-15 8.6626535e-08]\n",
      " [6.1678902e-09 8.5714663e-10 1.8843656e-08 ... 1.6188957e-10\n",
      "  1.8174236e-05 4.2993761e-06]\n",
      " [1.4056303e-06 3.8656391e-12 5.7264202e-08 ... 8.8433887e-16\n",
      "  1.4163020e-08 6.1598453e-13]]\n",
      "\n",
      "\n",
      "      Predictions\n",
      "0               7\n",
      "1               2\n",
      "2               1\n",
      "3               0\n",
      "4               4\n",
      "...           ...\n",
      "9995            2\n",
      "9996            3\n",
      "9997            4\n",
      "9998            5\n",
      "9999            6\n",
      "\n",
      "[10000 rows x 1 columns]\n"
     ]
    }
   ],
   "source": [
    "import numpy as np\n",
    "import pandas as pd\n",
    "\n",
    "preds = model.predict(x_test)\n",
    "print(preds)\n",
    "print('\\n')\n",
    "\n",
    "predictions = pd.DataFrame([np.argmax(preds[i]) for i in range(0, 10000)])\n",
    "predictions.columns = ['Predictions']\n",
    "predictions.to_csv('predictions_rnn_mnist.txt', index=False, header=False)\n",
    "print(predictions)"
   ]
  }
 ],
 "metadata": {
  "kernelspec": {
   "display_name": "Python 3",
   "language": "python",
   "name": "python3"
  },
  "language_info": {
   "codemirror_mode": {
    "name": "ipython",
    "version": 3
   },
   "file_extension": ".py",
   "mimetype": "text/x-python",
   "name": "python",
   "nbconvert_exporter": "python",
   "pygments_lexer": "ipython3",
   "version": "3.8.5"
  }
 },
 "nbformat": 4,
 "nbformat_minor": 4
}
